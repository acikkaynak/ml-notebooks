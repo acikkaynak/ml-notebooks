{
 "cells": [
  {
   "cell_type": "code",
   "execution_count": null,
   "metadata": {},
   "outputs": [],
   "source": [
    "# Update Notes by Ertugrul:\n",
    "# - FocalLoss\n",
    "# - Objective metric\n",
    "# - data_collator \n",
    "# - Hyperparameter seach\n",
    "# - Deterministic"
   ]
  },
  {
   "cell_type": "code",
   "execution_count": 1,
   "metadata": {
    "tags": []
   },
   "outputs": [],
   "source": [
    "import os\n",
    "\n",
    "import pandas as pd\n",
    "import matplotlib.pyplot as plt\n",
    "import seaborn as sns\n",
    "\n",
    "import numpy as np\n",
    "import torch\n",
    "import torch.nn as nn\n",
    "\n",
    "\n",
    "import datasets\n",
    "from datasets import load_dataset, load_metric\n",
    "from sklearn.metrics import classification_report, f1_score\n",
    "from scipy.special import expit as sigmoid\n",
    "\n",
    "import optuna\n",
    "import random\n",
    "\n",
    "from transformers import TrainingArguments, Trainer, AutoModelForSequenceClassification, AutoTokenizer\n",
    "\n",
    "\n",
    "os.environ[\"WANDB_DISABLED\"] = \"true\"\n",
    "os.environ['TRANSFORMERS_NO_ADVISORY_WARNINGS'] = 'true'"
   ]
  },
  {
   "cell_type": "code",
   "execution_count": 2,
   "metadata": {},
   "outputs": [
    {
     "name": "stdout",
     "output_type": "stream",
     "text": [
      "env: CUBLAS_WORKSPACE_CONFIG=:4096:8\n"
     ]
    }
   ],
   "source": [
    "def set_seed(seed = int):\n",
    "    '''Sets the seed of the entire notebook so results are the same every time we run.\n",
    "    This is for REPRODUCIBILITY.'''\n",
    "    np.random.seed(seed)\n",
    "    random_state = np.random.RandomState(seed)\n",
    "    random.seed(seed)\n",
    "    torch.manual_seed(seed)\n",
    "    torch.cuda.manual_seed(seed)\n",
    "    torch.backends.cudnn.deterministic = True\n",
    "    torch.backends.cudnn.benchmark = False\n",
    "    os.environ['PYTHONHASHSEED'] = str(seed)\n",
    "    return random_state\n",
    "\n",
    "\n",
    "random_state = set_seed(42)\n",
    "%env CUBLAS_WORKSPACE_CONFIG=:4096:8"
   ]
  },
  {
   "cell_type": "code",
   "execution_count": 3,
   "metadata": {},
   "outputs": [
    {
     "name": "stderr",
     "output_type": "stream",
     "text": [
      "Using custom data configuration deprem-private--intent-v13-2cc636b800f876bf\n",
      "Found cached dataset json (C:/Users/dmg_e/.cache/huggingface/datasets/deprem-private___json/deprem-private--intent-v13-2cc636b800f876bf/0.0.0/0f7e3662623656454fcd2b650f34e886a7db4b9104504885bd462096cc7a9f51)\n"
     ]
    },
    {
     "data": {
      "application/vnd.jupyter.widget-view+json": {
       "model_id": "be31ba12c6cf4c7b832836f66144f298",
       "version_major": 2,
       "version_minor": 0
      },
      "text/plain": [
       "  0%|          | 0/2 [00:00<?, ?it/s]"
      ]
     },
     "metadata": {},
     "output_type": "display_data"
    }
   ],
   "source": [
    "intent = datasets.load_dataset(\"deprem-private/intent-v13\")"
   ]
  },
  {
   "cell_type": "code",
   "execution_count": 4,
   "metadata": {},
   "outputs": [],
   "source": [
    "df_train = pd.DataFrame().from_records(list(intent[\"train\"]))\n",
    "# df_val = pd.DataFrame().from_records(list(intent[\"validation\"]))\n",
    "df_test = pd.DataFrame().from_records(list(intent[\"test\"]))"
   ]
  },
  {
   "cell_type": "code",
   "execution_count": null,
   "metadata": {},
   "outputs": [],
   "source": [
    "# from ast import literal_eval\n",
    "# import itertools\n",
    "\n",
    "# a=df_train.label.apply(lambda x: literal_eval(str(x))).tolist()\n",
    "# st = set(list(itertools.chain.from_iterable(a)))"
   ]
  },
  {
   "cell_type": "code",
   "execution_count": null,
   "metadata": {},
   "outputs": [],
   "source": [
    "# name2ix = {k: v for v,k in enumerate(st)}\n",
    "# ix2name = {v: k for k, v in name2ix.items()}\n"
   ]
  },
  {
   "cell_type": "code",
   "execution_count": 15,
   "metadata": {},
   "outputs": [],
   "source": [
    "ix2name = {0: 'Lojistik',\n",
    " 1: 'Elektrik Kaynagi',\n",
    " 2: 'Arama Ekipmani',\n",
    " 3: 'Cenaze',\n",
    " 4: 'Giysi',\n",
    " 5: 'Enkaz Kaldirma',\n",
    " 6: 'Isinma',\n",
    " 7: 'Barınma',\n",
    " 8: 'Tuvalet',\n",
    " 9: 'Su',\n",
    " 10: 'Yemek',\n",
    " 11: 'Saglik',\n",
    " 12: 'Alakasiz'}\n",
    "\n",
    "name2ix = {v: k for k, v in ix2name.items()}\n",
    "labels = name2ix.keys()"
   ]
  },
  {
   "cell_type": "code",
   "execution_count": 16,
   "metadata": {},
   "outputs": [
    {
     "data": {
      "text/plain": [
       "{0: 'Lojistik',\n",
       " 1: 'Elektrik Kaynagi',\n",
       " 2: 'Arama Ekipmani',\n",
       " 3: 'Cenaze',\n",
       " 4: 'Giysi',\n",
       " 5: 'Enkaz Kaldirma',\n",
       " 6: 'Isinma',\n",
       " 7: 'Barınma',\n",
       " 8: 'Tuvalet',\n",
       " 9: 'Su',\n",
       " 10: 'Yemek',\n",
       " 11: 'Saglik',\n",
       " 12: 'Alakasiz'}"
      ]
     },
     "execution_count": 16,
     "metadata": {},
     "output_type": "execute_result"
    }
   ],
   "source": [
    "ix2name"
   ]
  },
  {
   "cell_type": "code",
   "execution_count": 17,
   "metadata": {},
   "outputs": [
    {
     "data": {
      "text/html": [
       "<div>\n",
       "<style scoped>\n",
       "    .dataframe tbody tr th:only-of-type {\n",
       "        vertical-align: middle;\n",
       "    }\n",
       "\n",
       "    .dataframe tbody tr th {\n",
       "        vertical-align: top;\n",
       "    }\n",
       "\n",
       "    .dataframe thead th {\n",
       "        text-align: right;\n",
       "    }\n",
       "</style>\n",
       "<table border=\"1\" class=\"dataframe\">\n",
       "  <thead>\n",
       "    <tr style=\"text-align: right;\">\n",
       "      <th></th>\n",
       "      <th>image_url</th>\n",
       "      <th>label</th>\n",
       "      <th>label_confidence</th>\n",
       "      <th>labeler</th>\n",
       "      <th>label_creation_time</th>\n",
       "    </tr>\n",
       "  </thead>\n",
       "  <tbody>\n",
       "    <tr>\n",
       "      <th>0</th>\n",
       "      <td>Kopyala yapıştır yaparak yayar mısınız lütfen ...</td>\n",
       "      <td>[Enkaz Kaldirma]</td>\n",
       "      <td>[0.6666666667]</td>\n",
       "      <td>system_consensus</td>\n",
       "      <td>1676305452109</td>\n",
       "    </tr>\n",
       "    <tr>\n",
       "      <th>1</th>\n",
       "      <td>-Antakya-Baba ve down sendromlu çocuğu enkaz a...</td>\n",
       "      <td>[Enkaz Kaldirma]</td>\n",
       "      <td>[1.0]</td>\n",
       "      <td>system_consensus</td>\n",
       "      <td>1676310480396</td>\n",
       "    </tr>\n",
       "    <tr>\n",
       "      <th>2</th>\n",
       "      <td>YAKIN ZAMANDA SES‼️Cebrail Mahallesi Fahri Kor...</td>\n",
       "      <td>[Enkaz Kaldirma]</td>\n",
       "      <td>[1.0]</td>\n",
       "      <td>system_consensus</td>\n",
       "      <td>1676321565920</td>\n",
       "    </tr>\n",
       "    <tr>\n",
       "      <th>3</th>\n",
       "      <td>@BabalaTv ACİLL YARDIMM ÇAĞRISIDIR!!! TEYİTLİ ...</td>\n",
       "      <td>[Giysi, Yemek, Su]</td>\n",
       "      <td>[0.6666666667, 0.6666666667, 0.6666666667]</td>\n",
       "      <td>system_consensus</td>\n",
       "      <td>1676241278029</td>\n",
       "    </tr>\n",
       "    <tr>\n",
       "      <th>4</th>\n",
       "      <td>@alniopulesitivt Bahçelievler mahallesi Trabzo...</td>\n",
       "      <td>[Alakasiz]</td>\n",
       "      <td>[1.0]</td>\n",
       "      <td>system_consensus</td>\n",
       "      <td>1676321392038</td>\n",
       "    </tr>\n",
       "  </tbody>\n",
       "</table>\n",
       "</div>"
      ],
      "text/plain": [
       "                                           image_url               label  \\\n",
       "0  Kopyala yapıştır yaparak yayar mısınız lütfen ...    [Enkaz Kaldirma]   \n",
       "1  -Antakya-Baba ve down sendromlu çocuğu enkaz a...    [Enkaz Kaldirma]   \n",
       "2  YAKIN ZAMANDA SES‼️Cebrail Mahallesi Fahri Kor...    [Enkaz Kaldirma]   \n",
       "3  @BabalaTv ACİLL YARDIMM ÇAĞRISIDIR!!! TEYİTLİ ...  [Giysi, Yemek, Su]   \n",
       "4  @alniopulesitivt Bahçelievler mahallesi Trabzo...          [Alakasiz]   \n",
       "\n",
       "                             label_confidence           labeler  \\\n",
       "0                              [0.6666666667]  system_consensus   \n",
       "1                                       [1.0]  system_consensus   \n",
       "2                                       [1.0]  system_consensus   \n",
       "3  [0.6666666667, 0.6666666667, 0.6666666667]  system_consensus   \n",
       "4                                       [1.0]  system_consensus   \n",
       "\n",
       "   label_creation_time  \n",
       "0        1676305452109  \n",
       "1        1676310480396  \n",
       "2        1676321565920  \n",
       "3        1676241278029  \n",
       "4        1676321392038  "
      ]
     },
     "execution_count": 17,
     "metadata": {},
     "output_type": "execute_result"
    }
   ],
   "source": [
    "df_train.head()"
   ]
  },
  {
   "cell_type": "code",
   "execution_count": 18,
   "metadata": {
    "tags": []
   },
   "outputs": [],
   "source": [
    "label_col = \"label\"\n",
    "text_col = \"image_url\"\n",
    "\n",
    "df_train = df_train[df_train[label_col].notnull()].reset_index(drop=True)\n",
    "# df_val = df_val[df_val[label_col].notnull()].reset_index(drop=True)\n",
    "\n",
    "df_test = df_test[df_test[label_col].notnull()].reset_index(drop=True)"
   ]
  },
  {
   "cell_type": "code",
   "execution_count": 19,
   "metadata": {},
   "outputs": [
    {
     "data": {
      "text/plain": [
       "'-Antakya-Baba ve down sendromlu çocuğu enkaz altındaMüberra Güngör: 05322938539ekip var ama paletli kepçe ve ışık bekleniyor müdahale edilemiyorADRES:GAZI MAH. ADNANMENDERES CAD. NO 89 SUiT GÜZELLiK MERKEZI ÜSTÜ Antakya '"
      ]
     },
     "execution_count": 19,
     "metadata": {},
     "output_type": "execute_result"
    }
   ],
   "source": [
    "df_train.loc[1, \"image_url\"]"
   ]
  },
  {
   "cell_type": "code",
   "execution_count": 20,
   "metadata": {},
   "outputs": [],
   "source": [
    "from sklearn.preprocessing import MultiLabelBinarizer\n",
    "mlb = MultiLabelBinarizer(classes=list(ix2name.values()))\n",
    "mlb_labels = mlb.fit_transform(df_train.label.tolist())"
   ]
  },
  {
   "cell_type": "code",
   "execution_count": 21,
   "metadata": {},
   "outputs": [
    {
     "data": {
      "text/plain": [
       "array([0, 0, 0, 0, 0, 1, 0, 0, 0, 0, 0, 0, 0])"
      ]
     },
     "execution_count": 21,
     "metadata": {},
     "output_type": "execute_result"
    }
   ],
   "source": [
    "mlb_labels[0]"
   ]
  },
  {
   "cell_type": "code",
   "execution_count": 22,
   "metadata": {
    "tags": []
   },
   "outputs": [],
   "source": [
    "model_name = \"dbmdz/bert-base-turkish-128k-uncased\"\n",
    "tokenizer = AutoTokenizer.from_pretrained(model_name)\n",
    "\n",
    "from transformers import DataCollatorWithPadding\n",
    "data_collator = DataCollatorWithPadding(tokenizer, padding=\"max_length\", max_length=100)"
   ]
  },
  {
   "cell_type": "code",
   "execution_count": 23,
   "metadata": {},
   "outputs": [
    {
     "data": {
      "image/png": "[encoded data removed]",
      "text/plain": [
       "<Figure size 640x480 with 1 Axes>"
      ]
     },
     "metadata": {},
     "output_type": "display_data"
    }
   ],
   "source": [
    "token_counts = []\n",
    "\n",
    "for _, row in df_train.iterrows():\n",
    "\n",
    "  token_count = len(tokenizer.encode(\n",
    "\n",
    "    row[\"image_url\"],\n",
    "\n",
    "    max_length=128,\n",
    "\n",
    "    truncation=True\n",
    "\n",
    "  ))\n",
    "\n",
    "  token_counts.append(token_count)\n",
    "\n",
    "sns.histplot(token_counts)\n",
    "\n",
    "plt.xlim([0, 128]);"
   ]
  },
  {
   "cell_type": "code",
   "execution_count": 24,
   "metadata": {
    "tags": []
   },
   "outputs": [],
   "source": [
    "class IntentDataset(torch.utils.data.Dataset):\n",
    "    def __init__(self, df, num_classes=len(labels)):\n",
    "        self.df = df\n",
    "        self.num_classes = num_classes\n",
    "    \n",
    "    def __len__(self):\n",
    "        return len(self.df)\n",
    "    \n",
    "    def __getitem__(self, idx):\n",
    "        row = self.df.iloc[idx]\n",
    "        text, label = row.image_url, self._encode_label(row.label)\n",
    "        encoding = tokenizer(text, max_length=100, truncation=True)\n",
    "        encoding = {key: torch.tensor(val, dtype=torch.int64) for key, val in encoding.items()}\n",
    "        encoding[\"labels\"] = torch.tensor(label, dtype=torch.float32)\n",
    "        return dict(encoding)\n",
    "    \n",
    "    def _encode_label(self, input_labels):\n",
    "        encoded_labels = np.zeros(self.num_classes)\n",
    "        for label in input_labels:\n",
    "            encoded_labels[name2ix[label]] = 1.0\n",
    "        return encoded_labels"
   ]
  },
  {
   "cell_type": "code",
   "execution_count": 25,
   "metadata": {
    "tags": []
   },
   "outputs": [],
   "source": [
    "ds = IntentDataset(df_train)"
   ]
  },
  {
   "cell_type": "code",
   "execution_count": 26,
   "metadata": {
    "tags": []
   },
   "outputs": [],
   "source": [
    "def model_init():\n",
    "    return (AutoModelForSequenceClassification.from_pretrained(model_name,\n",
    "                                                           problem_type=\"multi_label_classification\", \n",
    "                                                           num_labels=len(labels),\n",
    "                                                           label2id=name2ix,\n",
    "                                                           id2label=ix2name                      \n",
    "                                                          ).to('cuda'))"
   ]
  },
  {
   "cell_type": "code",
   "execution_count": 27,
   "metadata": {},
   "outputs": [
    {
     "name": "stdout",
     "output_type": "stream",
     "text": [
      "(6492, 6)\n",
      "(1620, 6)\n"
     ]
    }
   ],
   "source": [
    "from iterstrat.ml_stratifiers import MultilabelStratifiedKFold\n",
    "\n",
    "cv = MultilabelStratifiedKFold(n_splits=5, shuffle=True, random_state=42)\n",
    "\n",
    "for fold, (train_idx, val_idx) in enumerate(cv.split(df_train.index.tolist(), mlb_labels)):\n",
    "    df_train.loc[val_idx, 'kfold'] = int(fold)\n",
    "    \n",
    "df_train, df_val = df_train[df_train['kfold']!=0], df_train[df_train['kfold']==0]\n",
    "\n",
    "print(df_train.shape)\n",
    "print(df_val.shape)"
   ]
  },
  {
   "cell_type": "code",
   "execution_count": 28,
   "metadata": {},
   "outputs": [
    {
     "data": {
      "text/plain": [
       "{0: 3.017203135650159,\n",
       " 1: 2.4823691788825464,\n",
       " 2: 1.941736822154725,\n",
       " 3: 6.172646581418988,\n",
       " 4: 1.8759436445637834,\n",
       " 5: 1.0,\n",
       " 6: 1.75011143349181,\n",
       " 7: 1.2730236191357969,\n",
       " 8: 4.849237178079731,\n",
       " 9: 2.4857419672410703,\n",
       " 10: 1.6324480531290084,\n",
       " 11: 2.0033774839735035,\n",
       " 12: 1.3688883733394182}"
      ]
     },
     "execution_count": 28,
     "metadata": {},
     "output_type": "execute_result"
    }
   ],
   "source": [
    "occs = np.sum(mlb_labels[df_train.index],\n",
    "       axis=0)\n",
    "\n",
    "occ_ratios = (mlb_labels.sum() / mlb_labels.sum(axis=0))\n",
    "occ_ratios /= occ_ratios.min()\n",
    "occ_ratios = np.power(occ_ratios, 1/3)\n",
    "\n",
    "class_weights = dict(zip(np.arange(mlb_labels.shape[1]), occ_ratios))\n",
    "class_weights"
   ]
  },
  {
   "cell_type": "code",
   "execution_count": 29,
   "metadata": {},
   "outputs": [],
   "source": [
    "class FocalLoss(nn.Module):\n",
    "    def __init__(self, pos_weight, alpha=0.1, gamma=2., reduction='mean'):\n",
    "        super(FocalLoss, self).__init__()\n",
    "        self.alpha = alpha\n",
    "        self.gamma = gamma\n",
    "        self.reduction = reduction\n",
    "        self.pos_weight = pos_weight.to('cuda')\n",
    "\n",
    "    def forward(self, inputs, targets):\n",
    "        BCE_loss = nn.BCEWithLogitsLoss(reduction='none', pos_weight=self.pos_weight)(inputs, targets)\n",
    "        pt = torch.exp(-BCE_loss)\n",
    "        F_loss = self.alpha * (1 - pt) ** self.gamma * BCE_loss\n",
    "\n",
    "        if self.reduction == 'mean':\n",
    "            return F_loss.mean()\n",
    "        elif self.reduction == 'sum':\n",
    "            return F_loss.sum()\n",
    "        else:\n",
    "            return F_loss"
   ]
  },
  {
   "cell_type": "code",
   "execution_count": 30,
   "metadata": {},
   "outputs": [],
   "source": [
    "class ImbalancedTrainer(Trainer):\n",
    "    def __init__(self, class_weights,  *args, **kwargs):\n",
    "        super().__init__(*args, **kwargs)\n",
    "        # You pass the class weights when instantiating the Trainer\n",
    "        self.class_weights = torch.Tensor(list(class_weights.values())).cuda()\n",
    "\n",
    "    def compute_loss(self, model, inputs, return_outputs=False):\n",
    "        \"\"\"\n",
    "        How the loss is computed by Trainer. By default, all models return the loss in the first element.\n",
    "        Subclass and override for custom behavior.\n",
    "        \"\"\"\n",
    "        if self.label_smoother is not None and \"labels\" in inputs:\n",
    "            labels = inputs.pop(\"labels\")\n",
    "        else:\n",
    "            labels = None\n",
    "        outputs = model(**inputs)\n",
    "        # Save past state if it exists\n",
    "        # TODO: this needs to be fixed and made cleaner later.\n",
    "        if self.args.past_index >= 0:\n",
    "            self._past = outputs[self.args.past_index]\n",
    "\n",
    "        if labels is not None:\n",
    "            loss = self.label_smoother(outputs, labels)\n",
    "        else:\n",
    "            # We don't use .loss here since the model may return tuples instead of ModelOutput.\n",
    "\n",
    "            # Changes start here\n",
    "            # loss = outputs[\"loss\"] if isinstance(outputs, dict) else outputs[0]\n",
    "            logits = outputs['logits']\n",
    "            criterion = FocalLoss(self.class_weights)\n",
    "            loss = criterion(logits, inputs['labels'])\n",
    "            # Changes end here\n",
    "\n",
    "        return (loss, outputs) if return_outputs else loss"
   ]
  },
  {
   "cell_type": "code",
   "execution_count": 31,
   "metadata": {},
   "outputs": [],
   "source": [
    "def compute_metrics(pred):\n",
    "    y_true = pred.label_ids\n",
    "    y_pred = sigmoid(pred.predictions)\n",
    "    y_pred = (y_pred>0.5).astype(float)\n",
    "    clf_dict = classification_report(y_true, y_pred,\n",
    "    zero_division=0, output_dict=True)\n",
    "    return {\"micro f1\": clf_dict[\"micro avg\"][\"f1-score\"],\n",
    "\"macro f1\": clf_dict[\"macro avg\"][\"f1-score\"]}"
   ]
  },
  {
   "cell_type": "code",
   "execution_count": 32,
   "metadata": {},
   "outputs": [],
   "source": [
    "batch_size = 32\n",
    "step_size = int(np.ceil(len(df_train) / batch_size) / 4) - 1"
   ]
  },
  {
   "cell_type": "code",
   "execution_count": 33,
   "metadata": {
    "scrolled": true,
    "tags": []
   },
   "outputs": [],
   "source": [
    "HP_SEARCH = False\n",
    "\n",
    "if HP_SEARCH:\n",
    "    basic_args = TrainingArguments(\n",
    "        f\"turkish_multilabel_intent_{model_name.split('/')[-1]}\",\n",
    "        fp16=True,\n",
    "        evaluation_strategy = \"epoch\",\n",
    "        save_strategy = \"no\",\n",
    "        #learning_rate=2e-5,\n",
    "        per_device_train_batch_size=batch_size,\n",
    "        per_device_eval_batch_size=batch_size*2,\n",
    "        num_train_epochs=4,\n",
    "        #weight_decay=0.01,\n",
    "        load_best_model_at_end=False,\n",
    "        metric_for_best_model=\"macro f1\",\n",
    "        # eval_steps = step_size,\n",
    "        # save_steps = step_size,\n",
    "        # logging_steps = step_size,\n",
    "        seed = 42,\n",
    "        data_seed = 42,\n",
    "        dataloader_num_workers = 0,\n",
    "        #lr_scheduler_type = 'linear',\n",
    "        #warmup_steps=0,                # number of warmup steps for learning rate scheduler\n",
    "        #weight_decay=0,               # strength of weight decay\n",
    "        #save_total_limit=1,              # limit the total amount of checkpoints. Deletes the older checkpoints.\n",
    "        full_determinism = True,\n",
    "        group_by_length = True\n",
    "    )\n",
    "\n",
    "    trainer = ImbalancedTrainer(\n",
    "        class_weights=class_weights, \n",
    "        model_init=model_init,\n",
    "        args=basic_args,\n",
    "        data_collator=data_collator,\n",
    "        train_dataset=IntentDataset(df_train),\n",
    "        eval_dataset=IntentDataset(df_val),\n",
    "        compute_metrics=compute_metrics,\n",
    "    )\n",
    "\n",
    "    def hp_space(trial):\n",
    "        return {\n",
    "            # \"num_train_epochs\" : trial.suggest_int(\"num_train_epochs\",2,5),\n",
    "            \"learning_rate\" : trial.suggest_float(\"learning_rate\", 1e-7, 1e-4),\n",
    "            \"weight_decay\" : trial.suggest_float(\"weight_decay\", 0.001, 0.1),\n",
    "            \"lr_scheduler_type\" : trial.suggest_categorical(\"lr_scheduler_type\", [\"linear\", \"cosine\"]),\n",
    "            # \"per_device_train_batch_size\" : trial.suggest_int(\"per_device_train_batch_size\",8,32,8),\n",
    "            \"warmup_steps\" : trial.suggest_int(\"warmup_steps\",0,250,10),\n",
    "        }\n",
    "    \n",
    "\n",
    "    def compute_objective(metrics):\n",
    "        return metrics[\"eval_macro f1\"]\n",
    "\n",
    "    best_run = trainer.hyperparameter_search(n_trials=15, direction=\"maximize\", hp_space=hp_space, compute_objective=compute_objective)\n",
    "    best_run"
   ]
  },
  {
   "cell_type": "code",
   "execution_count": 34,
   "metadata": {},
   "outputs": [
    {
     "name": "stderr",
     "output_type": "stream",
     "text": [
      "Using the `WANDB_DISABLED` environment variable is deprecated and will be removed in v5. Use the --report_to flag to control the integrations used for logging result (for instance --report_to none).\n",
      "loading configuration file config.json from cache at C:\\Users\\dmg_e/.cache\\huggingface\\hub\\models--dbmdz--bert-base-turkish-128k-uncased\\snapshots\\f5287aecee60f0c597c11c34341cb92d31c0e71b\\config.json\n",
      "Model config BertConfig {\n",
      "  \"_name_or_path\": \"dbmdz/bert-base-turkish-128k-uncased\",\n",
      "  \"attention_probs_dropout_prob\": 0.1,\n",
      "  \"classifier_dropout\": null,\n",
      "  \"hidden_act\": \"gelu\",\n",
      "  \"hidden_dropout_prob\": 0.1,\n",
      "  \"hidden_size\": 768,\n",
      "  \"id2label\": {\n",
      "    \"0\": \"Lojistik\",\n",
      "    \"1\": \"Elektrik Kaynagi\",\n",
      "    \"2\": \"Arama Ekipmani\",\n",
      "    \"3\": \"Cenaze\",\n",
      "    \"4\": \"Giysi\",\n",
      "    \"5\": \"Enkaz Kaldirma\",\n",
      "    \"6\": \"Isinma\",\n",
      "    \"7\": \"Bar\\u0131nma\",\n",
      "    \"8\": \"Tuvalet\",\n",
      "    \"9\": \"Su\",\n",
      "    \"10\": \"Yemek\",\n",
      "    \"11\": \"Saglik\",\n",
      "    \"12\": \"Alakasiz\"\n",
      "  },\n",
      "  \"initializer_range\": 0.02,\n",
      "  \"intermediate_size\": 3072,\n",
      "  \"label2id\": {\n",
      "    \"Alakasiz\": 12,\n",
      "    \"Arama Ekipmani\": 2,\n",
      "    \"Bar\\u0131nma\": 7,\n",
      "    \"Cenaze\": 3,\n",
      "    \"Elektrik Kaynagi\": 1,\n",
      "    \"Enkaz Kaldirma\": 5,\n",
      "    \"Giysi\": 4,\n",
      "    \"Isinma\": 6,\n",
      "    \"Lojistik\": 0,\n",
      "    \"Saglik\": 11,\n",
      "    \"Su\": 9,\n",
      "    \"Tuvalet\": 8,\n",
      "    \"Yemek\": 10\n",
      "  },\n",
      "  \"layer_norm_eps\": 1e-12,\n",
      "  \"max_position_embeddings\": 512,\n",
      "  \"model_type\": \"bert\",\n",
      "  \"num_attention_heads\": 12,\n",
      "  \"num_hidden_layers\": 12,\n",
      "  \"pad_token_id\": 0,\n",
      "  \"position_embedding_type\": \"absolute\",\n",
      "  \"problem_type\": \"multi_label_classification\",\n",
      "  \"transformers_version\": \"4.24.0\",\n",
      "  \"type_vocab_size\": 2,\n",
      "  \"use_cache\": true,\n",
      "  \"vocab_size\": 128000\n",
      "}\n",
      "\n",
      "loading weights file pytorch_model.bin from cache at C:\\Users\\dmg_e/.cache\\huggingface\\hub\\models--dbmdz--bert-base-turkish-128k-uncased\\snapshots\\f5287aecee60f0c597c11c34341cb92d31c0e71b\\pytorch_model.bin\n",
      "Some weights of the model checkpoint at dbmdz/bert-base-turkish-128k-uncased were not used when initializing BertForSequenceClassification: ['cls.seq_relationship.bias', 'cls.seq_relationship.weight', 'cls.predictions.decoder.bias', 'cls.predictions.transform.LayerNorm.bias', 'cls.predictions.bias', 'cls.predictions.transform.LayerNorm.weight', 'cls.predictions.transform.dense.weight', 'cls.predictions.transform.dense.bias', 'cls.predictions.decoder.weight']\n",
      "- This IS expected if you are initializing BertForSequenceClassification from the checkpoint of a model trained on another task or with another architecture (e.g. initializing a BertForSequenceClassification model from a BertForPreTraining model).\n",
      "- This IS NOT expected if you are initializing BertForSequenceClassification from the checkpoint of a model that you expect to be exactly identical (initializing a BertForSequenceClassification model from a BertForSequenceClassification model).\n",
      "Some weights of BertForSequenceClassification were not initialized from the model checkpoint at dbmdz/bert-base-turkish-128k-uncased and are newly initialized: ['classifier.bias', 'classifier.weight']\n",
      "You should probably TRAIN this model on a down-stream task to be able to use it for predictions and inference.\n",
      "Using cuda_amp half precision backend\n",
      "loading configuration file config.json from cache at C:\\Users\\dmg_e/.cache\\huggingface\\hub\\models--dbmdz--bert-base-turkish-128k-uncased\\snapshots\\f5287aecee60f0c597c11c34341cb92d31c0e71b\\config.json\n",
      "Model config BertConfig {\n",
      "  \"_name_or_path\": \"dbmdz/bert-base-turkish-128k-uncased\",\n",
      "  \"attention_probs_dropout_prob\": 0.1,\n",
      "  \"classifier_dropout\": null,\n",
      "  \"hidden_act\": \"gelu\",\n",
      "  \"hidden_dropout_prob\": 0.1,\n",
      "  \"hidden_size\": 768,\n",
      "  \"id2label\": {\n",
      "    \"0\": \"Lojistik\",\n",
      "    \"1\": \"Elektrik Kaynagi\",\n",
      "    \"2\": \"Arama Ekipmani\",\n",
      "    \"3\": \"Cenaze\",\n",
      "    \"4\": \"Giysi\",\n",
      "    \"5\": \"Enkaz Kaldirma\",\n",
      "    \"6\": \"Isinma\",\n",
      "    \"7\": \"Bar\\u0131nma\",\n",
      "    \"8\": \"Tuvalet\",\n",
      "    \"9\": \"Su\",\n",
      "    \"10\": \"Yemek\",\n",
      "    \"11\": \"Saglik\",\n",
      "    \"12\": \"Alakasiz\"\n",
      "  },\n",
      "  \"initializer_range\": 0.02,\n",
      "  \"intermediate_size\": 3072,\n",
      "  \"label2id\": {\n",
      "    \"Alakasiz\": 12,\n",
      "    \"Arama Ekipmani\": 2,\n",
      "    \"Bar\\u0131nma\": 7,\n",
      "    \"Cenaze\": 3,\n",
      "    \"Elektrik Kaynagi\": 1,\n",
      "    \"Enkaz Kaldirma\": 5,\n",
      "    \"Giysi\": 4,\n",
      "    \"Isinma\": 6,\n",
      "    \"Lojistik\": 0,\n",
      "    \"Saglik\": 11,\n",
      "    \"Su\": 9,\n",
      "    \"Tuvalet\": 8,\n",
      "    \"Yemek\": 10\n",
      "  },\n",
      "  \"layer_norm_eps\": 1e-12,\n",
      "  \"max_position_embeddings\": 512,\n",
      "  \"model_type\": \"bert\",\n",
      "  \"num_attention_heads\": 12,\n",
      "  \"num_hidden_layers\": 12,\n",
      "  \"pad_token_id\": 0,\n",
      "  \"position_embedding_type\": \"absolute\",\n",
      "  \"problem_type\": \"multi_label_classification\",\n",
      "  \"transformers_version\": \"4.24.0\",\n",
      "  \"type_vocab_size\": 2,\n",
      "  \"use_cache\": true,\n",
      "  \"vocab_size\": 128000\n",
      "}\n",
      "\n",
      "loading weights file pytorch_model.bin from cache at C:\\Users\\dmg_e/.cache\\huggingface\\hub\\models--dbmdz--bert-base-turkish-128k-uncased\\snapshots\\f5287aecee60f0c597c11c34341cb92d31c0e71b\\pytorch_model.bin\n",
      "Some weights of the model checkpoint at dbmdz/bert-base-turkish-128k-uncased were not used when initializing BertForSequenceClassification: ['cls.seq_relationship.bias', 'cls.seq_relationship.weight', 'cls.predictions.decoder.bias', 'cls.predictions.transform.LayerNorm.bias', 'cls.predictions.bias', 'cls.predictions.transform.LayerNorm.weight', 'cls.predictions.transform.dense.weight', 'cls.predictions.transform.dense.bias', 'cls.predictions.decoder.weight']\n",
      "- This IS expected if you are initializing BertForSequenceClassification from the checkpoint of a model trained on another task or with another architecture (e.g. initializing a BertForSequenceClassification model from a BertForPreTraining model).\n",
      "- This IS NOT expected if you are initializing BertForSequenceClassification from the checkpoint of a model that you expect to be exactly identical (initializing a BertForSequenceClassification model from a BertForSequenceClassification model).\n",
      "Some weights of BertForSequenceClassification were not initialized from the model checkpoint at dbmdz/bert-base-turkish-128k-uncased and are newly initialized: ['classifier.bias', 'classifier.weight']\n",
      "You should probably TRAIN this model on a down-stream task to be able to use it for predictions and inference.\n",
      "C:\\Users\\dmg_e\\anaconda3\\envs\\nlp\\lib\\site-packages\\transformers\\optimization.py:306: FutureWarning: This implementation of AdamW is deprecated and will be removed in a future version. Use the PyTorch implementation torch.optim.AdamW instead, or set `no_deprecation_warning=True` to disable this warning\n",
      "  warnings.warn(\n",
      "***** Running training *****\n",
      "  Num examples = 6492\n",
      "  Num Epochs = 4\n",
      "  Instantaneous batch size per device = 32\n",
      "  Total train batch size (w. parallel, distributed & accumulation) = 32\n",
      "  Gradient Accumulation steps = 1\n",
      "  Total optimization steps = 812\n",
      "  Number of trainable parameters = 184355341\n"
     ]
    },
    {
     "data": {
      "text/html": [
       "\n",
       "    <div>\n",
       "      \n",
       "      <progress value='812' max='812' style='width:300px; height:20px; vertical-align: middle;'></progress>\n",
       "      [812/812 04:52, Epoch 4/4]\n",
       "    </div>\n",
       "    <table border=\"1\" class=\"dataframe\">\n",
       "  <thead>\n",
       " <tr style=\"text-align: left;\">\n",
       "      <th>Step</th>\n",
       "      <th>Training Loss</th>\n",
       "      <th>Validation Loss</th>\n",
       "      <th>Micro f1</th>\n",
       "      <th>Macro f1</th>\n",
       "    </tr>\n",
       "  </thead>\n",
       "  <tbody>\n",
       "    <tr>\n",
       "      <td>49</td>\n",
       "      <td>0.012600</td>\n",
       "      <td>0.008991</td>\n",
       "      <td>0.506440</td>\n",
       "      <td>0.302808</td>\n",
       "    </tr>\n",
       "    <tr>\n",
       "      <td>98</td>\n",
       "      <td>0.007000</td>\n",
       "      <td>0.005209</td>\n",
       "      <td>0.816014</td>\n",
       "      <td>0.629818</td>\n",
       "    </tr>\n",
       "    <tr>\n",
       "      <td>147</td>\n",
       "      <td>0.005000</td>\n",
       "      <td>0.004140</td>\n",
       "      <td>0.851512</td>\n",
       "      <td>0.737092</td>\n",
       "    </tr>\n",
       "    <tr>\n",
       "      <td>196</td>\n",
       "      <td>0.004600</td>\n",
       "      <td>0.003730</td>\n",
       "      <td>0.861579</td>\n",
       "      <td>0.764193</td>\n",
       "    </tr>\n",
       "    <tr>\n",
       "      <td>245</td>\n",
       "      <td>0.003400</td>\n",
       "      <td>0.003418</td>\n",
       "      <td>0.867908</td>\n",
       "      <td>0.740340</td>\n",
       "    </tr>\n",
       "    <tr>\n",
       "      <td>294</td>\n",
       "      <td>0.003000</td>\n",
       "      <td>0.003193</td>\n",
       "      <td>0.877217</td>\n",
       "      <td>0.777911</td>\n",
       "    </tr>\n",
       "    <tr>\n",
       "      <td>343</td>\n",
       "      <td>0.003100</td>\n",
       "      <td>0.003197</td>\n",
       "      <td>0.860201</td>\n",
       "      <td>0.749202</td>\n",
       "    </tr>\n",
       "    <tr>\n",
       "      <td>392</td>\n",
       "      <td>0.003000</td>\n",
       "      <td>0.002911</td>\n",
       "      <td>0.880481</td>\n",
       "      <td>0.779105</td>\n",
       "    </tr>\n",
       "    <tr>\n",
       "      <td>441</td>\n",
       "      <td>0.002100</td>\n",
       "      <td>0.002965</td>\n",
       "      <td>0.882129</td>\n",
       "      <td>0.814388</td>\n",
       "    </tr>\n",
       "    <tr>\n",
       "      <td>490</td>\n",
       "      <td>0.001600</td>\n",
       "      <td>0.002963</td>\n",
       "      <td>0.888193</td>\n",
       "      <td>0.820314</td>\n",
       "    </tr>\n",
       "    <tr>\n",
       "      <td>539</td>\n",
       "      <td>0.002000</td>\n",
       "      <td>0.003001</td>\n",
       "      <td>0.888388</td>\n",
       "      <td>0.828849</td>\n",
       "    </tr>\n",
       "    <tr>\n",
       "      <td>588</td>\n",
       "      <td>0.001900</td>\n",
       "      <td>0.002873</td>\n",
       "      <td>0.887235</td>\n",
       "      <td>0.830829</td>\n",
       "    </tr>\n",
       "    <tr>\n",
       "      <td>637</td>\n",
       "      <td>0.001500</td>\n",
       "      <td>0.002813</td>\n",
       "      <td>0.888235</td>\n",
       "      <td>0.837983</td>\n",
       "    </tr>\n",
       "    <tr>\n",
       "      <td>686</td>\n",
       "      <td>0.001400</td>\n",
       "      <td>0.002915</td>\n",
       "      <td>0.892704</td>\n",
       "      <td>0.833584</td>\n",
       "    </tr>\n",
       "    <tr>\n",
       "      <td>735</td>\n",
       "      <td>0.001200</td>\n",
       "      <td>0.002902</td>\n",
       "      <td>0.892688</td>\n",
       "      <td>0.857335</td>\n",
       "    </tr>\n",
       "    <tr>\n",
       "      <td>784</td>\n",
       "      <td>0.001200</td>\n",
       "      <td>0.002860</td>\n",
       "      <td>0.897036</td>\n",
       "      <td>0.864054</td>\n",
       "    </tr>\n",
       "  </tbody>\n",
       "</table><p>"
      ],
      "text/plain": [
       "<IPython.core.display.HTML object>"
      ]
     },
     "metadata": {},
     "output_type": "display_data"
    },
    {
     "name": "stderr",
     "output_type": "stream",
     "text": [
      "***** Running Evaluation *****\n",
      "  Num examples = 1620\n",
      "  Batch size = 64\n",
      "Saving model checkpoint to turkish_multilabel_intent_bert-base-turkish-128k-uncased\\checkpoint-49\n",
      "Configuration saved in turkish_multilabel_intent_bert-base-turkish-128k-uncased\\checkpoint-49\\config.json\n",
      "Model weights saved in turkish_multilabel_intent_bert-base-turkish-128k-uncased\\checkpoint-49\\pytorch_model.bin\n",
      "Deleting older checkpoint [turkish_multilabel_intent_bert-base-turkish-128k-uncased\\checkpoint-245] due to args.save_total_limit\n",
      "Deleting older checkpoint [turkish_multilabel_intent_bert-base-turkish-128k-uncased\\checkpoint-294] due to args.save_total_limit\n",
      "***** Running Evaluation *****\n",
      "  Num examples = 1620\n",
      "  Batch size = 64\n",
      "Saving model checkpoint to turkish_multilabel_intent_bert-base-turkish-128k-uncased\\checkpoint-98\n",
      "Configuration saved in turkish_multilabel_intent_bert-base-turkish-128k-uncased\\checkpoint-98\\config.json\n",
      "Model weights saved in turkish_multilabel_intent_bert-base-turkish-128k-uncased\\checkpoint-98\\pytorch_model.bin\n",
      "Deleting older checkpoint [turkish_multilabel_intent_bert-base-turkish-128k-uncased\\checkpoint-49] due to args.save_total_limit\n",
      "***** Running Evaluation *****\n",
      "  Num examples = 1620\n",
      "  Batch size = 64\n",
      "Saving model checkpoint to turkish_multilabel_intent_bert-base-turkish-128k-uncased\\checkpoint-147\n",
      "Configuration saved in turkish_multilabel_intent_bert-base-turkish-128k-uncased\\checkpoint-147\\config.json\n",
      "Model weights saved in turkish_multilabel_intent_bert-base-turkish-128k-uncased\\checkpoint-147\\pytorch_model.bin\n",
      "Deleting older checkpoint [turkish_multilabel_intent_bert-base-turkish-128k-uncased\\checkpoint-98] due to args.save_total_limit\n",
      "***** Running Evaluation *****\n",
      "  Num examples = 1620\n",
      "  Batch size = 64\n",
      "Saving model checkpoint to turkish_multilabel_intent_bert-base-turkish-128k-uncased\\checkpoint-196\n",
      "Configuration saved in turkish_multilabel_intent_bert-base-turkish-128k-uncased\\checkpoint-196\\config.json\n",
      "Model weights saved in turkish_multilabel_intent_bert-base-turkish-128k-uncased\\checkpoint-196\\pytorch_model.bin\n",
      "Deleting older checkpoint [turkish_multilabel_intent_bert-base-turkish-128k-uncased\\checkpoint-147] due to args.save_total_limit\n",
      "***** Running Evaluation *****\n",
      "  Num examples = 1620\n",
      "  Batch size = 64\n",
      "Saving model checkpoint to turkish_multilabel_intent_bert-base-turkish-128k-uncased\\checkpoint-245\n",
      "Configuration saved in turkish_multilabel_intent_bert-base-turkish-128k-uncased\\checkpoint-245\\config.json\n",
      "Model weights saved in turkish_multilabel_intent_bert-base-turkish-128k-uncased\\checkpoint-245\\pytorch_model.bin\n",
      "***** Running Evaluation *****\n",
      "  Num examples = 1620\n",
      "  Batch size = 64\n",
      "Saving model checkpoint to turkish_multilabel_intent_bert-base-turkish-128k-uncased\\checkpoint-294\n",
      "Configuration saved in turkish_multilabel_intent_bert-base-turkish-128k-uncased\\checkpoint-294\\config.json\n",
      "Model weights saved in turkish_multilabel_intent_bert-base-turkish-128k-uncased\\checkpoint-294\\pytorch_model.bin\n",
      "Deleting older checkpoint [turkish_multilabel_intent_bert-base-turkish-128k-uncased\\checkpoint-196] due to args.save_total_limit\n",
      "Deleting older checkpoint [turkish_multilabel_intent_bert-base-turkish-128k-uncased\\checkpoint-245] due to args.save_total_limit\n",
      "***** Running Evaluation *****\n",
      "  Num examples = 1620\n",
      "  Batch size = 64\n",
      "Saving model checkpoint to turkish_multilabel_intent_bert-base-turkish-128k-uncased\\checkpoint-343\n",
      "Configuration saved in turkish_multilabel_intent_bert-base-turkish-128k-uncased\\checkpoint-343\\config.json\n",
      "Model weights saved in turkish_multilabel_intent_bert-base-turkish-128k-uncased\\checkpoint-343\\pytorch_model.bin\n",
      "***** Running Evaluation *****\n",
      "  Num examples = 1620\n",
      "  Batch size = 64\n",
      "Saving model checkpoint to turkish_multilabel_intent_bert-base-turkish-128k-uncased\\checkpoint-392\n",
      "Configuration saved in turkish_multilabel_intent_bert-base-turkish-128k-uncased\\checkpoint-392\\config.json\n",
      "Model weights saved in turkish_multilabel_intent_bert-base-turkish-128k-uncased\\checkpoint-392\\pytorch_model.bin\n",
      "Deleting older checkpoint [turkish_multilabel_intent_bert-base-turkish-128k-uncased\\checkpoint-294] due to args.save_total_limit\n",
      "Deleting older checkpoint [turkish_multilabel_intent_bert-base-turkish-128k-uncased\\checkpoint-343] due to args.save_total_limit\n",
      "***** Running Evaluation *****\n",
      "  Num examples = 1620\n",
      "  Batch size = 64\n",
      "Saving model checkpoint to turkish_multilabel_intent_bert-base-turkish-128k-uncased\\checkpoint-441\n",
      "Configuration saved in turkish_multilabel_intent_bert-base-turkish-128k-uncased\\checkpoint-441\\config.json\n",
      "Model weights saved in turkish_multilabel_intent_bert-base-turkish-128k-uncased\\checkpoint-441\\pytorch_model.bin\n",
      "Deleting older checkpoint [turkish_multilabel_intent_bert-base-turkish-128k-uncased\\checkpoint-392] due to args.save_total_limit\n",
      "***** Running Evaluation *****\n",
      "  Num examples = 1620\n",
      "  Batch size = 64\n",
      "Saving model checkpoint to turkish_multilabel_intent_bert-base-turkish-128k-uncased\\checkpoint-490\n",
      "Configuration saved in turkish_multilabel_intent_bert-base-turkish-128k-uncased\\checkpoint-490\\config.json\n",
      "Model weights saved in turkish_multilabel_intent_bert-base-turkish-128k-uncased\\checkpoint-490\\pytorch_model.bin\n",
      "Deleting older checkpoint [turkish_multilabel_intent_bert-base-turkish-128k-uncased\\checkpoint-441] due to args.save_total_limit\n",
      "***** Running Evaluation *****\n",
      "  Num examples = 1620\n",
      "  Batch size = 64\n",
      "Saving model checkpoint to turkish_multilabel_intent_bert-base-turkish-128k-uncased\\checkpoint-539\n",
      "Configuration saved in turkish_multilabel_intent_bert-base-turkish-128k-uncased\\checkpoint-539\\config.json\n",
      "Model weights saved in turkish_multilabel_intent_bert-base-turkish-128k-uncased\\checkpoint-539\\pytorch_model.bin\n",
      "Deleting older checkpoint [turkish_multilabel_intent_bert-base-turkish-128k-uncased\\checkpoint-490] due to args.save_total_limit\n",
      "***** Running Evaluation *****\n",
      "  Num examples = 1620\n",
      "  Batch size = 64\n",
      "Saving model checkpoint to turkish_multilabel_intent_bert-base-turkish-128k-uncased\\checkpoint-588\n",
      "Configuration saved in turkish_multilabel_intent_bert-base-turkish-128k-uncased\\checkpoint-588\\config.json\n",
      "Model weights saved in turkish_multilabel_intent_bert-base-turkish-128k-uncased\\checkpoint-588\\pytorch_model.bin\n",
      "Deleting older checkpoint [turkish_multilabel_intent_bert-base-turkish-128k-uncased\\checkpoint-539] due to args.save_total_limit\n",
      "***** Running Evaluation *****\n",
      "  Num examples = 1620\n",
      "  Batch size = 64\n",
      "Saving model checkpoint to turkish_multilabel_intent_bert-base-turkish-128k-uncased\\checkpoint-637\n",
      "Configuration saved in turkish_multilabel_intent_bert-base-turkish-128k-uncased\\checkpoint-637\\config.json\n",
      "Model weights saved in turkish_multilabel_intent_bert-base-turkish-128k-uncased\\checkpoint-637\\pytorch_model.bin\n",
      "Deleting older checkpoint [turkish_multilabel_intent_bert-base-turkish-128k-uncased\\checkpoint-588] due to args.save_total_limit\n",
      "***** Running Evaluation *****\n",
      "  Num examples = 1620\n",
      "  Batch size = 64\n",
      "Saving model checkpoint to turkish_multilabel_intent_bert-base-turkish-128k-uncased\\checkpoint-686\n",
      "Configuration saved in turkish_multilabel_intent_bert-base-turkish-128k-uncased\\checkpoint-686\\config.json\n",
      "Model weights saved in turkish_multilabel_intent_bert-base-turkish-128k-uncased\\checkpoint-686\\pytorch_model.bin\n",
      "***** Running Evaluation *****\n",
      "  Num examples = 1620\n",
      "  Batch size = 64\n",
      "Saving model checkpoint to turkish_multilabel_intent_bert-base-turkish-128k-uncased\\checkpoint-735\n",
      "Configuration saved in turkish_multilabel_intent_bert-base-turkish-128k-uncased\\checkpoint-735\\config.json\n",
      "Model weights saved in turkish_multilabel_intent_bert-base-turkish-128k-uncased\\checkpoint-735\\pytorch_model.bin\n",
      "Deleting older checkpoint [turkish_multilabel_intent_bert-base-turkish-128k-uncased\\checkpoint-637] due to args.save_total_limit\n",
      "Deleting older checkpoint [turkish_multilabel_intent_bert-base-turkish-128k-uncased\\checkpoint-686] due to args.save_total_limit\n",
      "***** Running Evaluation *****\n",
      "  Num examples = 1620\n",
      "  Batch size = 64\n",
      "Saving model checkpoint to turkish_multilabel_intent_bert-base-turkish-128k-uncased\\checkpoint-784\n",
      "Configuration saved in turkish_multilabel_intent_bert-base-turkish-128k-uncased\\checkpoint-784\\config.json\n",
      "Model weights saved in turkish_multilabel_intent_bert-base-turkish-128k-uncased\\checkpoint-784\\pytorch_model.bin\n",
      "Deleting older checkpoint [turkish_multilabel_intent_bert-base-turkish-128k-uncased\\checkpoint-735] due to args.save_total_limit\n",
      "\n",
      "\n",
      "Training completed. Do not forget to share your model on huggingface.co/models =)\n",
      "\n",
      "\n",
      "Loading best model from turkish_multilabel_intent_bert-base-turkish-128k-uncased\\checkpoint-784 (score: 0.8640538586818446).\n"
     ]
    },
    {
     "data": {
      "text/plain": [
       "TrainOutput(global_step=812, training_loss=0.003325057638065862, metrics={'train_runtime': 293.4609, 'train_samples_per_second': 88.489, 'train_steps_per_second': 2.767, 'total_flos': 1334598181891200.0, 'train_loss': 0.003325057638065862, 'epoch': 4.0})"
      ]
     },
     "execution_count": 34,
     "metadata": {},
     "output_type": "execute_result"
    }
   ],
   "source": [
    "training_args = TrainingArguments(\n",
    "    f\"turkish_multilabel_intent_{model_name.split('/')[-1]}\",\n",
    "    fp16=True,\n",
    "    evaluation_strategy = \"steps\",\n",
    "    save_strategy = \"steps\",\n",
    "    learning_rate=5.1058553791201954e-05,\n",
    "    per_device_train_batch_size=batch_size,\n",
    "    per_device_eval_batch_size=batch_size*2,\n",
    "    num_train_epochs=4,\n",
    "    #weight_decay=0.01,\n",
    "    load_best_model_at_end=True,\n",
    "     metric_for_best_model=\"macro f1\",\n",
    "    eval_steps = step_size,\n",
    "    save_steps = step_size,\n",
    "    logging_steps = step_size,\n",
    "    seed = 42,\n",
    "    data_seed = 42,\n",
    "    dataloader_num_workers = 0,\n",
    "    lr_scheduler_type =\"linear\",\n",
    "    warmup_steps=0,               # number of warmup steps for learning rate scheduler\n",
    "    weight_decay=0.06437697487126866,               # strength of weight decay\n",
    "    save_total_limit=1,              # limit the total amount of checkpoints. Deletes the older checkpoints.\n",
    "    full_determinism = True,\n",
    "    group_by_length = True\n",
    ")\n",
    "\n",
    "trainer = ImbalancedTrainer(\n",
    "    class_weights=class_weights,                    \n",
    "    model_init=model_init,\n",
    "    args=training_args,\n",
    "    data_collator=data_collator,\n",
    "    train_dataset=IntentDataset(df_train),\n",
    "    eval_dataset=IntentDataset(df_val),\n",
    "    compute_metrics=compute_metrics,\n",
    ")\n",
    "\n",
    "trainer.train()"
   ]
  },
  {
   "cell_type": "code",
   "execution_count": null,
   "metadata": {
    "scrolled": true,
    "tags": []
   },
   "outputs": [],
   "source": [
    "# training_args = TrainingArguments(\n",
    "#     f\"turkish_multilabel_intent_{model_name.split('/')[-1]}\",\n",
    "#     fp16=True,\n",
    "#     evaluation_strategy = \"steps\",\n",
    "#     save_strategy = \"steps\",\n",
    "#     learning_rate=best_run[-1]['learning_rate'],\n",
    "#     per_device_train_batch_size=32,\n",
    "#     per_device_eval_batch_size=batch_size*2,\n",
    "#     num_train_epochs=4,\n",
    "#     #weight_decay=0.01,\n",
    "#     load_best_model_at_end=True,\n",
    "#      metric_for_best_model=\"macro f1\",\n",
    "#     eval_steps = step_size,\n",
    "#     save_steps = step_size,\n",
    "#     logging_steps = step_size,\n",
    "#     seed = 42,\n",
    "#     data_seed = 42,\n",
    "#     dataloader_num_workers = 0,\n",
    "#     lr_scheduler_type = best_run[-1]['lr_scheduler_type'],\n",
    "#     warmup_steps=best_run[-1]['warmup_steps'],               # number of warmup steps for learning rate scheduler\n",
    "#     weight_decay=best_run[-1]['weight_decay'],               # strength of weight decay\n",
    "#     save_total_limit=1,              # limit the total amount of checkpoints. Deletes the older checkpoints.\n",
    "#     full_determinism = True,\n",
    "#     group_by_length = True\n",
    "# )\n",
    "\n",
    "# trainer = ImbalancedTrainer(\n",
    "#     class_weights=class_weights,\n",
    "#     model_init=model_init,\n",
    "#     args=training_args,\n",
    "#     data_collator=data_collator,\n",
    "#     train_dataset=IntentDataset(df_train),\n",
    "#     eval_dataset=IntentDataset(df_val),\n",
    "#     compute_metrics=compute_metrics,\n",
    "# )\n",
    "\n",
    "# trainer.train()"
   ]
  },
  {
   "cell_type": "code",
   "execution_count": 35,
   "metadata": {
    "tags": []
   },
   "outputs": [
    {
     "name": "stderr",
     "output_type": "stream",
     "text": [
      "***** Running Prediction *****\n",
      "  Num examples = 2028\n",
      "  Batch size = 64\n"
     ]
    },
    {
     "data": {
      "text/html": [],
      "text/plain": [
       "<IPython.core.display.HTML object>"
      ]
     },
     "metadata": {},
     "output_type": "display_data"
    }
   ],
   "source": [
    "preds = trainer.predict(IntentDataset(df_test))"
   ]
  },
  {
   "cell_type": "code",
   "execution_count": 38,
   "metadata": {},
   "outputs": [
    {
     "name": "stderr",
     "output_type": "stream",
     "text": [
      "***** Running Prediction *****\n",
      "  Num examples = 1620\n",
      "  Batch size = 64\n"
     ]
    },
    {
     "data": {
      "text/html": [],
      "text/plain": [
       "<IPython.core.display.HTML object>"
      ]
     },
     "metadata": {},
     "output_type": "display_data"
    }
   ],
   "source": [
    "preds = trainer.predict(IntentDataset(df_val))"
   ]
  },
  {
   "cell_type": "code",
   "execution_count": 39,
   "metadata": {},
   "outputs": [
    {
     "data": {
      "text/plain": [
       "(0.58, 0.8666219455858628)"
      ]
     },
     "execution_count": 39,
     "metadata": {},
     "output_type": "execute_result"
    }
   ],
   "source": [
    "best_thr = -1\n",
    "best_score = 0.\n",
    "\n",
    "for threshold in np.arange(.1, 1., .03):\n",
    "    score = f1_score(preds.label_ids.astype(int), (sigmoid(preds.predictions) > threshold).astype(int), average=\"macro\")\n",
    "    if score>best_score:\n",
    "        best_score = score\n",
    "        best_thr = threshold\n",
    "\n",
    "best_thr, best_score"
   ]
  },
  {
   "cell_type": "code",
   "execution_count": 40,
   "metadata": {},
   "outputs": [
    {
     "name": "stdout",
     "output_type": "stream",
     "text": [
      "                  precision    recall  f1-score   support\n",
      "\n",
      "        Lojistik       0.72      0.75      0.74        28\n",
      "Elektrik Kaynagi       0.81      0.80      0.80        49\n",
      "  Arama Ekipmani       0.76      0.83      0.79       103\n",
      "          Cenaze       1.00      0.67      0.80         3\n",
      "           Giysi       0.84      0.96      0.89       114\n",
      "  Enkaz Kaldirma       0.95      0.91      0.93       753\n",
      "          Isinma       0.84      0.85      0.85       141\n",
      "         Barınma       0.96      0.97      0.97       365\n",
      "         Tuvalet       1.00      1.00      1.00         7\n",
      "              Su       0.85      0.90      0.87        49\n",
      "           Yemek       0.91      0.97      0.94       173\n",
      "          Saglik       0.78      0.94      0.85        94\n",
      "        Alakasiz       0.84      0.83      0.83       294\n",
      "\n",
      "       micro avg       0.89      0.90      0.90      2173\n",
      "       macro avg       0.87      0.87      0.87      2173\n",
      "    weighted avg       0.90      0.90      0.90      2173\n",
      "     samples avg       0.90      0.91      0.90      2173\n",
      "\n"
     ]
    }
   ],
   "source": [
    "print(classification_report(preds.label_ids.astype(int), (sigmoid(preds.predictions) > 0.53).astype(int), target_names=name2ix.keys(), zero_division=0))"
   ]
  },
  {
   "cell_type": "code",
   "execution_count": null,
   "metadata": {},
   "outputs": [],
   "source": []
  }
 ],
 "metadata": {
  "kernelspec": {
   "display_name": "Python 3 (ipykernel)",
   "language": "python",
   "name": "python3"
  },
  "language_info": {
   "codemirror_mode": {
    "name": "ipython",
    "version": 3
   },
   "file_extension": ".py",
   "mimetype": "text/x-python",
   "name": "python",
   "nbconvert_exporter": "python",
   "pygments_lexer": "ipython3",
   "version": "3.9.16"
  }
 },
 "nbformat": 4,
 "nbformat_minor": 4
}
